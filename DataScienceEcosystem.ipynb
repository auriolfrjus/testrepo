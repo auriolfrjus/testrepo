{
 "cells": [
  {
   "cell_type": "markdown",
   "id": "7db34ff3",
   "metadata": {},
   "source": [
    "# Data Science Tools and Ecosystem"
   ]
  },
  {
   "cell_type": "markdown",
   "id": "3259aa26",
   "metadata": {},
   "source": [
    "###### In this notebook, Data Science Tools and Ecosystem are summarized."
   ]
  },
  {
   "cell_type": "markdown",
   "id": "034d9356",
   "metadata": {},
   "source": [
    "# Some of the popular languages that Data Scientists use are :\n",
    "\n",
    "1. Python\n",
    "2. R\n",
    "3. Julia"
   ]
  },
  {
   "cell_type": "markdown",
   "id": "b1072169",
   "metadata": {},
   "source": [
    "# Some of the commonly used libraries used by Data Scientists include :\n",
    "\n",
    "1. ggplot2\n",
    "2. Pandas\n",
    "3. Numpy"
   ]
  },
  {
   "cell_type": "markdown",
   "id": "e4c1a238",
   "metadata": {},
   "source": [
    "# Objectives :\n",
    "\n",
    "- List popular languages for Data Science\n",
    "- Use the math libraries for Data Science\n",
    "- Use the pandas libraries for table in Data Science\n",
    "- Use the markdown cell and code cell\n",
    "- List the commonly used libraries in Data Science"
   ]
  },
  {
   "cell_type": "code",
   "execution_count": 4,
   "id": "29556d0c",
   "metadata": {},
   "outputs": [
    {
     "name": "stdout",
     "output_type": "stream",
     "text": [
      "| Data Science Tools   |\n",
      "|:---------------------|\n",
      "| Python               |\n",
      "| R                    |\n",
      "| Jupyter Notebook     |\n"
     ]
    }
   ],
   "source": [
    "# Data Science Tools\n",
    "\n",
    "import pandas as pd\n",
    "\n",
    "tools = {\n",
    "\"Data Science Tools\" : [\"Python\", \"R\", \"Jupyter Notebook\"]\n",
    "}\n",
    "\n",
    "table = pd.DataFrame(tools)\n",
    "\n",
    "table_convert = table.to_markdown(index=False)\n",
    "\n",
    "print(table_convert)"
   ]
  },
  {
   "cell_type": "code",
   "execution_count": 7,
   "id": "dc2806f4",
   "metadata": {},
   "outputs": [
    {
     "name": "stdout",
     "output_type": "stream",
     "text": [
      "example 1 :  18\n",
      "example 2 :  6\n"
     ]
    }
   ],
   "source": [
    "### Below are a few examples of evaluating arithmetic expressions in Python\n",
    "\n",
    "import math\n",
    "\n",
    "example_1 = 6*3\n",
    "example_2 = 8-2\n",
    "\n",
    "print(\"example 1 : \", example_1)\n",
    "\n",
    "print(\"example 2 : \", example_2)\n",
    "\n"
   ]
  },
  {
   "cell_type": "code",
   "execution_count": 8,
   "id": "cfb9d79b",
   "metadata": {},
   "outputs": [
    {
     "data": {
      "text/plain": [
       "17"
      ]
     },
     "execution_count": 8,
     "metadata": {},
     "output_type": "execute_result"
    }
   ],
   "source": [
    "# This a simple arithmetic expression to mutiply then add integers\n",
    "\n",
    "import math\n",
    "\n",
    "(3*4)+5"
   ]
  },
  {
   "cell_type": "code",
   "execution_count": 10,
   "id": "5794a004",
   "metadata": {},
   "outputs": [
    {
     "name": "stdout",
     "output_type": "stream",
     "text": [
      "200  minutes =  3.3333333333333335 hour\n"
     ]
    }
   ],
   "source": [
    "# This will convert 200 minutes to hours by diving by 60\n",
    "\n",
    "import math\n",
    "\n",
    "minutes = 200\n",
    "\n",
    "hour = 200/60\n",
    "\n",
    "print(minutes,\" minutes = \",hour, \"hour\")"
   ]
  },
  {
   "cell_type": "markdown",
   "id": "dd41d4f0",
   "metadata": {},
   "source": [
    "## Author : TAMINY Niassan dit Auriol Fréjus"
   ]
  }
 ],
 "metadata": {
  "kernelspec": {
   "display_name": "Python 3 (ipykernel)",
   "language": "python",
   "name": "python3"
  },
  "language_info": {
   "codemirror_mode": {
    "name": "ipython",
    "version": 3
   },
   "file_extension": ".py",
   "mimetype": "text/x-python",
   "name": "python",
   "nbconvert_exporter": "python",
   "pygments_lexer": "ipython3",
   "version": "3.11.4"
  }
 },
 "nbformat": 4,
 "nbformat_minor": 5
}
